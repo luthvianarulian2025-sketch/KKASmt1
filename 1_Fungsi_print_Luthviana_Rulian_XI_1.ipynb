{
  "nbformat": 4,
  "nbformat_minor": 0,
  "metadata": {
    "colab": {
      "provenance": [],
      "authorship_tag": "ABX9TyMxtaXaLFiaTzy3bQE9JOUy",
      "include_colab_link": true
    },
    "kernelspec": {
      "name": "python3",
      "display_name": "Python 3"
    },
    "language_info": {
      "name": "python"
    }
  },
  "cells": [
    {
      "cell_type": "markdown",
      "metadata": {
        "id": "view-in-github",
        "colab_type": "text"
      },
      "source": [
        "<a href=\"https://colab.research.google.com/github/luthvianarulian2025-sketch/KKASmt1/blob/main/1_Fungsi_print_Luthviana_Rulian_XI_1.ipynb\" target=\"_parent\"><img src=\"https://colab.research.google.com/assets/colab-badge.svg\" alt=\"Open In Colab\"/></a>"
      ]
    },
    {
      "cell_type": "markdown",
      "source": [
        "# 1. Menampilkan Teks bebas"
      ],
      "metadata": {
        "id": "bcJrNwb6KEC9"
      }
    },
    {
      "cell_type": "code",
      "source": [
        "print ('halo dunia')"
      ],
      "metadata": {
        "colab": {
          "base_uri": "https://localhost:8080/"
        },
        "id": "zAit8i-4KhON",
        "outputId": "5a6257aa-f305-4d39-a677-76a9311b799b"
      },
      "execution_count": null,
      "outputs": [
        {
          "output_type": "stream",
          "name": "stdout",
          "text": [
            "halo dunia\n"
          ]
        }
      ]
    },
    {
      "cell_type": "code",
      "source": [
        "print ('selamat datang di python')"
      ],
      "metadata": {
        "colab": {
          "base_uri": "https://localhost:8080/"
        },
        "id": "EFIKCKToKmR9",
        "outputId": "3793b355-63bc-462c-be4d-e24ef2ef9b0a"
      },
      "execution_count": null,
      "outputs": [
        {
          "output_type": "stream",
          "name": "stdout",
          "text": [
            "selamat datang di python\n"
          ]
        }
      ]
    },
    {
      "cell_type": "markdown",
      "source": [
        "# Variabel"
      ],
      "metadata": {
        "id": "1KaTiFHXK3NA"
      }
    },
    {
      "cell_type": "code",
      "source": [
        "Nama = 'Luthviana Alifa Rulian'\n",
        "print(Nama)"
      ],
      "metadata": {
        "colab": {
          "base_uri": "https://localhost:8080/"
        },
        "id": "4wEzngKFONcp",
        "outputId": "3533aee6-1d9b-4e22-b2ac-0163a82608e2"
      },
      "execution_count": null,
      "outputs": [
        {
          "output_type": "stream",
          "name": "stdout",
          "text": [
            "Luthviana Alifa Rulian\n"
          ]
        }
      ]
    },
    {
      "cell_type": "code",
      "source": [
        "BB = 50\n",
        "print(BB)"
      ],
      "metadata": {
        "colab": {
          "base_uri": "https://localhost:8080/"
        },
        "id": "PDFSCStFK5wd",
        "outputId": "b41769bb-df38-4b71-bf95-f2884dc3206c"
      },
      "execution_count": null,
      "outputs": [
        {
          "output_type": "stream",
          "name": "stdout",
          "text": [
            "50\n"
          ]
        }
      ]
    },
    {
      "cell_type": "code",
      "source": [
        "Umur = 16\n",
        "print(Umur)"
      ],
      "metadata": {
        "colab": {
          "base_uri": "https://localhost:8080/"
        },
        "id": "D-rAv4KoLEbw",
        "outputId": "bf4095ea-b439-4223-9ddf-1f0aebfa343a"
      },
      "execution_count": null,
      "outputs": [
        {
          "output_type": "stream",
          "name": "stdout",
          "text": [
            "16\n"
          ]
        }
      ]
    },
    {
      "cell_type": "markdown",
      "source": [
        "# menampilkan Teks bebas dan variabel"
      ],
      "metadata": {
        "id": "d1111YVVLST3"
      }
    },
    {
      "cell_type": "code",
      "source": [
        "print(f\"umur saya {Umur} tahun\")"
      ],
      "metadata": {
        "colab": {
          "base_uri": "https://localhost:8080/"
        },
        "id": "lQbSXyUBLY2E",
        "outputId": "437814ed-56d9-40fe-b83f-5b92c0a1d5aa"
      },
      "execution_count": null,
      "outputs": [
        {
          "output_type": "stream",
          "name": "stdout",
          "text": [
            "umur saya 16 tahun\n"
          ]
        }
      ]
    },
    {
      "cell_type": "code",
      "source": [
        "print ('halo' + Nama)"
      ],
      "metadata": {
        "colab": {
          "base_uri": "https://localhost:8080/"
        },
        "id": "4tJZfJ8TN-3M",
        "outputId": "afa79f85-0740-4a59-eea5-dc7561042676"
      },
      "execution_count": null,
      "outputs": [
        {
          "output_type": "stream",
          "name": "stdout",
          "text": [
            "haloLuthviana Alifa Rulian\n"
          ]
        }
      ]
    },
    {
      "cell_type": "code",
      "source": [
        "nama = \"Luthviana Alifa Rulian\""
      ],
      "metadata": {
        "id": "HcyNXq3IOMbr"
      },
      "execution_count": null,
      "outputs": []
    },
    {
      "cell_type": "markdown",
      "source": [
        "Latihan soal\n",
        "\n",
        "1. Tampilkan teks bebas: hari ini saya bahagia belajar bahasa python'\n",
        "2. Tampilkan variabel mata_pelajaran_favorit = kode dan kecerdasan buatan\n",
        "3. Tampilkan nilai variable: nilai_nilai KKA = 100\n",
        "4. Tampilkan teks bebas dan nilai variabel dengan tiga metode (f string,\"+\",\",\"):\"Nilai KKA saya adalah {nilai_nilai_kka} loh\""
      ],
      "metadata": {
        "id": "2ileqGSfOq1Q"
      }
    },
    {
      "cell_type": "code",
      "source": [
        "print(\"nama\\t\\t: Luthviana Alifa Rulian\\nkelas\\t\\t: Xl-1\\nNomor absen\\t: 24\")"
      ],
      "metadata": {
        "colab": {
          "base_uri": "https://localhost:8080/"
        },
        "id": "k01oiRnZRJcU",
        "outputId": "a882a2bd-d56b-45f6-d33d-151fef42108f"
      },
      "execution_count": null,
      "outputs": [
        {
          "output_type": "stream",
          "name": "stdout",
          "text": [
            "nama\t\t: Luthviana Alifa Rulian\n",
            "kelas\t\t: Xl-1\n",
            "Nomor absen\t: 24\n"
          ]
        }
      ]
    },
    {
      "cell_type": "code",
      "source": [
        "print('hari ini saya bahagia belajar bahasa python')"
      ],
      "metadata": {
        "colab": {
          "base_uri": "https://localhost:8080/"
        },
        "id": "V7NpbkICSH5n",
        "outputId": "c654c5fd-2e19-4df3-ca8e-1091dbcfc6e6"
      },
      "execution_count": null,
      "outputs": [
        {
          "output_type": "stream",
          "name": "stdout",
          "text": [
            "hari ini saya bahagia belajar bahasa python\n"
          ]
        }
      ]
    },
    {
      "cell_type": "code",
      "source": [
        "mata_pelajaran_favorit = \"kode kecerdasan buatan\"\n",
        "print(mata_pelajaran_favorit)"
      ],
      "metadata": {
        "colab": {
          "base_uri": "https://localhost:8080/"
        },
        "id": "owYGR5JwSQ1t",
        "outputId": "dae550d5-fe64-48af-9c4a-036a55665b4a"
      },
      "execution_count": null,
      "outputs": [
        {
          "output_type": "stream",
          "name": "stdout",
          "text": [
            "kode kecerdasan buatan\n"
          ]
        }
      ]
    },
    {
      "cell_type": "code",
      "source": [
        "nilai_kka = 100\n",
        "print(nilai_kka)"
      ],
      "metadata": {
        "colab": {
          "base_uri": "https://localhost:8080/"
        },
        "id": "QxH1IkEtSoXv",
        "outputId": "1df0864a-0bcd-4f6e-9379-d8e28ce425eb"
      },
      "execution_count": null,
      "outputs": [
        {
          "output_type": "stream",
          "name": "stdout",
          "text": [
            "100\n"
          ]
        }
      ]
    },
    {
      "cell_type": "code",
      "source": [
        "nilai_kka = 100\n",
        "print(f'nilai KKA saya adalah {nilai_kka} loh!')"
      ],
      "metadata": {
        "colab": {
          "base_uri": "https://localhost:8080/"
        },
        "id": "4gczITOPSyY9",
        "outputId": "94ddd30e-cd0e-4e57-a5ae-c2ae9dfede26"
      },
      "execution_count": null,
      "outputs": [
        {
          "output_type": "stream",
          "name": "stdout",
          "text": [
            "nilai KKA saya adalah 100 loh!\n"
          ]
        }
      ]
    },
    {
      "cell_type": "code",
      "source": [
        "nilai_KKA = 100\n",
        "\n",
        "print(\"nilai KKA saya adalah \"+ str(nilai_KKA) + \" loh!\")"
      ],
      "metadata": {
        "colab": {
          "base_uri": "https://localhost:8080/"
        },
        "id": "Zifqfes-TvrM",
        "outputId": "0a57264f-509a-47b4-f3f4-8e0698e4c397"
      },
      "execution_count": null,
      "outputs": [
        {
          "output_type": "stream",
          "name": "stdout",
          "text": [
            "nilai KKA saya adalah 100 loh!\n"
          ]
        }
      ]
    },
    {
      "cell_type": "code",
      "source": [
        "print('Ja\\'far Shodiq')"
      ],
      "metadata": {
        "colab": {
          "base_uri": "https://localhost:8080/"
        },
        "id": "-WGkhb-RTyyR",
        "outputId": "55a9bd63-1fa6-4b26-9fcb-8885184ee05a"
      },
      "execution_count": null,
      "outputs": [
        {
          "output_type": "stream",
          "name": "stdout",
          "text": [
            "Ja'far Shodiq\n"
          ]
        }
      ]
    },
    {
      "cell_type": "code",
      "source": [
        "print(\"Ja'far Shodiq\")"
      ],
      "metadata": {
        "colab": {
          "base_uri": "https://localhost:8080/"
        },
        "id": "1r6NmZDzUEC6",
        "outputId": "348e977a-2fd1-47b9-cb2f-13dc811740f0"
      },
      "execution_count": null,
      "outputs": [
        {
          "output_type": "stream",
          "name": "stdout",
          "text": [
            "Ja'far Shodiq\n"
          ]
        }
      ]
    },
    {
      "cell_type": "code",
      "source": [
        "print(\"Bu Shinta berkata, \\\"semua harus menyimak pelajaran.\\\"\")"
      ],
      "metadata": {
        "colab": {
          "base_uri": "https://localhost:8080/"
        },
        "id": "b5TfqF_pUUdk",
        "outputId": "ddd27952-f292-44cd-819a-bd06bbaacc46"
      },
      "execution_count": null,
      "outputs": [
        {
          "output_type": "stream",
          "name": "stdout",
          "text": [
            "Bu Shinta berkata, \"semua harus menyimak pelajaran.\"\n"
          ]
        }
      ]
    },
    {
      "cell_type": "code",
      "source": [
        "print('Bu Shinta berkata, \"Semua harus menyimak pelajanan.\"')"
      ],
      "metadata": {
        "colab": {
          "base_uri": "https://localhost:8080/"
        },
        "id": "UfNhXcUrU7ZC",
        "outputId": "a5419fa1-7d4f-4283-d0b2-6564747d5cce"
      },
      "execution_count": null,
      "outputs": [
        {
          "output_type": "stream",
          "name": "stdout",
          "text": [
            "Bu Shinta berkata, \"Semua harus menyimak pelajanan.\"\n"
          ]
        }
      ]
    },
    {
      "cell_type": "code",
      "source": [
        "print(\"Lokasi file video karnaval ada di D:\\\\Karnaval 2025"
      ],
      "metadata": {
        "id": "q1H17wIeVnMw"
      },
      "execution_count": null,
      "outputs": []
    },
    {
      "cell_type": "markdown",
      "source": [
        "# Parameter Fungsi Print"
      ],
      "metadata": {
        "id": "UBBmC8YXVq56"
      }
    },
    {
      "cell_type": "code",
      "source": [
        "Tahun = 2009\n",
        "Bulan = 'Januari'\n",
        "Tanggal =3\n",
        "\n",
        "print(Tanggal, end=\" \")\n",
        "print(Bulan, end=\" \")\n",
        "print(Tahun)"
      ],
      "metadata": {
        "colab": {
          "base_uri": "https://localhost:8080/"
        },
        "id": "raiIyAU7VzZt",
        "outputId": "5ec5f1ea-d758-43d0-bc8b-cd0115e7e019"
      },
      "execution_count": null,
      "outputs": [
        {
          "output_type": "stream",
          "name": "stdout",
          "text": [
            "3 Januari 2009\n"
          ]
        }
      ]
    },
    {
      "cell_type": "code",
      "source": [
        "Tahun = 2009\n",
        "Bulan = \"Januari\"\n",
        "Tanggal =3\n",
        "\n",
        "print(Tanggal, end=\" \")\n",
        "print(Bulan, end=\" \")\n",
        "print(Tahun)"
      ],
      "metadata": {
        "id": "lI0s-3TEWdYX",
        "outputId": "f553936f-d868-4651-f6ae-327aefd17e97",
        "colab": {
          "base_uri": "https://localhost:8080/"
        }
      },
      "execution_count": null,
      "outputs": [
        {
          "output_type": "stream",
          "name": "stdout",
          "text": [
            "3 Januari 2009\n"
          ]
        }
      ]
    },
    {
      "cell_type": "markdown",
      "source": [
        "# Latihan"
      ],
      "metadata": {
        "id": "ddfEcnePhnQG"
      }
    },
    {
      "cell_type": "markdown",
      "source": [
        "Tanggal-Bulan-Tahun"
      ],
      "metadata": {
        "id": "0L3f8jcxhw6T"
      }
    },
    {
      "cell_type": "code",
      "source": [
        "Nama_depan = \"Luthviana\"\n",
        "\n",
        "Nama_belakang = \"Rulian\"\n",
        "\n",
        "print(Nama_depan, end=\" \")\n",
        "print(Nama_belakang)"
      ],
      "metadata": {
        "colab": {
          "base_uri": "https://localhost:8080/"
        },
        "id": "-3dm79avh1Cv",
        "outputId": "5891e5e5-0312-456d-ff23-d8d0af2767e3"
      },
      "execution_count": null,
      "outputs": [
        {
          "output_type": "stream",
          "name": "stdout",
          "text": [
            "Luthviana Rulian\n"
          ]
        }
      ]
    },
    {
      "cell_type": "code",
      "source": [
        "Nama_depan = \"Luthviana\"\n",
        "\n",
        "Nama_belakang = \"Rulian\"\n",
        "\n",
        "print(Nama_depan, Nama_belakang)"
      ],
      "metadata": {
        "colab": {
          "base_uri": "https://localhost:8080/"
        },
        "id": "WZNiguIekbV7",
        "outputId": "b91db6a6-774d-48b3-9173-efc1ea339062"
      },
      "execution_count": null,
      "outputs": [
        {
          "output_type": "stream",
          "name": "stdout",
          "text": [
            "Luthviana Rulian\n"
          ]
        }
      ]
    },
    {
      "cell_type": "markdown",
      "source": [
        "#Soal"
      ],
      "metadata": {
        "id": "hRh06_DRlivo"
      }
    },
    {
      "cell_type": "code",
      "source": [
        "print('Bu shinta berkata, \"berikut adalah judul pelajaran hari Senin, Selasa, Rabu silahkan disimpan di laptop masing-masing di folder local disk D:\\\\Jadwal pelajaran\\\\Kelas Xl Semster 1\"')\n",
        "print(\"\\nJadwal pelajaran mingguan\")\n",
        "print(\"=====================================================\")\n",
        "print(\"jam\\tsenin\\t\\tselasa\\t\\tRabu\")\n",
        "print(\"jam1\\tMatematika\\tBahasa\\t\\tInformatika\")\n",
        "print(\"jam2\\tBahasa Inggris\\tSejarah\\t\\tMa'rifatullah\")\n",
        "print(\"jam3\\tInformatika\\tOlahraga\\tBiologi\")"
      ],
      "metadata": {
        "colab": {
          "base_uri": "https://localhost:8080/"
        },
        "id": "ivgMXeS1lkNW",
        "outputId": "a7712135-ad92-4867-ea74-e363bc62cdf4"
      },
      "execution_count": null,
      "outputs": [
        {
          "output_type": "stream",
          "name": "stdout",
          "text": [
            "Bu shinta berkata, \"berikut adalah judul pelajaran hari Senin, Selasa, Rabu silahkan disimpan di laptop masing-masing di folder local disk D:\\Jadwal pelajaran\\Kelas Xl Semster 1\"\n",
            "\n",
            "Jadwal pelajaran mingguan\n",
            "=====================================================\n",
            "jam\tsenin\t\tselasa\t\tRabu\n",
            "jam1\tMatematika\tBahasa\t\tInformatika\n",
            "jam2\tBahasa Inggris\tSejarah\t\tMa'rifatullah\n",
            "jam3\tInformatika\tOlahraga\tBiologi\n"
          ]
        }
      ]
    },
    {
      "cell_type": "markdown",
      "source": [
        "# parameter fungsi"
      ],
      "metadata": {
        "id": "5E4GDVgbFOs3"
      }
    },
    {
      "cell_type": "code",
      "source": [
        "nama_siswa_1 = \"favian\"\n",
        "nama_siswa_2 = \"Naufal\"\n",
        "nama_siswa_3 = \"Humaira\"\n",
        "\n",
        "print (nama_siswa_1, nama_siswa_2, nama_siswa_3)"
      ],
      "metadata": {
        "colab": {
          "base_uri": "https://localhost:8080/"
        },
        "id": "fodM8u9CFR0z",
        "outputId": "10381f8b-6c08-4c61-9818-f4401a2a6d0a"
      },
      "execution_count": null,
      "outputs": [
        {
          "output_type": "stream",
          "name": "stdout",
          "text": [
            "favian Naufal Humaira\n"
          ]
        }
      ]
    },
    {
      "cell_type": "code",
      "source": [
        "nama_siswa_1 = \"favian\"\n",
        "nama_siswa_2 = \"Naufal\"\n",
        "nama_siswa_3 = \"Humaira\"\n",
        "\n",
        "print(nama_siswa_1,nama_siswa_2,nama_siswa_3, sep=\" \")"
      ],
      "metadata": {
        "colab": {
          "base_uri": "https://localhost:8080/"
        },
        "id": "jbQUBXiQFucf",
        "outputId": "52bac9de-9550-4cb7-f13b-b3536bae7d20"
      },
      "execution_count": null,
      "outputs": [
        {
          "output_type": "stream",
          "name": "stdout",
          "text": [
            "favian Naufal Humaira\n"
          ]
        }
      ]
    },
    {
      "cell_type": "code",
      "source": [
        "nama_siswa_1 = \"favian\"\n",
        "nama_siswa_2 = \"Naufal\"\n",
        "nama_siswa_3 = \"Humaira\"\n",
        "\n",
        "print (nama_siswa_1, nama_siswa_2, nama_siswa_3, sep=\"*\")"
      ],
      "metadata": {
        "colab": {
          "base_uri": "https://localhost:8080/"
        },
        "id": "1x1Xnh3lGc9K",
        "outputId": "db12bfc5-34a6-42fa-cf9d-e175af93b343"
      },
      "execution_count": null,
      "outputs": [
        {
          "output_type": "stream",
          "name": "stdout",
          "text": [
            "favian*Naufal*Humaira\n"
          ]
        }
      ]
    },
    {
      "cell_type": "code",
      "source": [
        "print (nama_siswa_1, end=\" \")\n",
        "print (nama_siswa_2, end=\" \")\n",
        "print (nama_siswa_3)"
      ],
      "metadata": {
        "colab": {
          "base_uri": "https://localhost:8080/"
        },
        "id": "ZuhLkGt6Gk3D",
        "outputId": "16400828-b326-4b95-aaf4-9f9d6e7fe441"
      },
      "execution_count": null,
      "outputs": [
        {
          "output_type": "stream",
          "name": "stdout",
          "text": [
            "favian Naufal Humaira\n"
          ]
        }
      ]
    },
    {
      "cell_type": "code",
      "source": [
        "print (nama_siswa_1, end=\"*\")\n",
        "print (nama_siswa_2, end=\"*\")\n",
        "print (nama_siswa_3)"
      ],
      "metadata": {
        "colab": {
          "base_uri": "https://localhost:8080/"
        },
        "id": "HnfIV-QNHN_S",
        "outputId": "b7a66e85-0d32-4c59-e9d6-4c40726523e3"
      },
      "execution_count": null,
      "outputs": [
        {
          "output_type": "stream",
          "name": "stdout",
          "text": [
            "favian*Naufal*Humaira\n"
          ]
        }
      ]
    },
    {
      "cell_type": "code",
      "source": [
        "# tampilkan keluaran berupa:\n",
        "# naufal-favian-humaira-favian\n",
        "# dengan parameter sep"
      ],
      "metadata": {
        "id": "YjwLuhqiHTR0"
      },
      "execution_count": null,
      "outputs": []
    },
    {
      "cell_type": "code",
      "source": [
        "nama_siswa_1 = \"naufal\"\n",
        "nama_siswa_2 = \"favian\"\n",
        "nama_siswa_3 = \"Humaira\"\n",
        "nama_siswa_4 = \"favian\"\n",
        "\n",
        "print (nama_siswa_1, nama_siswa_2, nama_siswa_3, nama_siswa_4, sep=\"~\")"
      ],
      "metadata": {
        "colab": {
          "base_uri": "https://localhost:8080/"
        },
        "id": "HenUyUNBHmJr",
        "outputId": "f4f8e03f-f8d0-4d13-f2d3-91b730ad873e"
      },
      "execution_count": null,
      "outputs": [
        {
          "output_type": "stream",
          "name": "stdout",
          "text": [
            "naufal~favian~Humaira~favian\n"
          ]
        }
      ]
    },
    {
      "cell_type": "code",
      "source": [
        "# tampilkan keluaran berupa:\n",
        "# naufal-favian\n",
        "# humaira-favian\n",
        "# dengan parameter end"
      ],
      "metadata": {
        "id": "WZniRdGFH7uK"
      },
      "execution_count": null,
      "outputs": []
    },
    {
      "cell_type": "code",
      "source": [
        "print (nama_siswa_1, end=\"~\")\n",
        "print (nama_siswa_2,)\n",
        "\n",
        "print (nama_siswa_3, end=\"~\")\n",
        "print (nama_siswa_4,)"
      ],
      "metadata": {
        "colab": {
          "base_uri": "https://localhost:8080/"
        },
        "id": "OUvpxUoXIJ0N",
        "outputId": "4b8c674e-b940-4e58-91dc-9629e760bdcc"
      },
      "execution_count": null,
      "outputs": [
        {
          "output_type": "stream",
          "name": "stdout",
          "text": [
            "naufal~favian\n",
            "Humaira~favian\n"
          ]
        }
      ]
    }
  ]
}