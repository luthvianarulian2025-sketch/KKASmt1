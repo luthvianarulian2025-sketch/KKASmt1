{
  "nbformat": 4,
  "nbformat_minor": 0,
  "metadata": {
    "colab": {
      "provenance": [],
      "authorship_tag": "ABX9TyPUitgMtmcYPaAZwrnDbSA3",
      "include_colab_link": true
    },
    "kernelspec": {
      "name": "python3",
      "display_name": "Python 3"
    },
    "language_info": {
      "name": "python"
    }
  },
  "cells": [
    {
      "cell_type": "markdown",
      "metadata": {
        "id": "view-in-github",
        "colab_type": "text"
      },
      "source": [
        "<a href=\"https://colab.research.google.com/github/luthvianarulian2025-sketch/KKASmt1/blob/main/3_simple_app_ball_volume_XI_1_Luthviana_Alifa_Rulian.ipynb\" target=\"_parent\"><img src=\"https://colab.research.google.com/assets/colab-badge.svg\" alt=\"Open In Colab\"/></a>"
      ]
    },
    {
      "cell_type": "markdown",
      "source": [
        "Nama    : Luthviana Alifa Rulian\n",
        "Kelas   : XI-1\n",
        "\n",
        "No Absen : 24\n",
        "\n",
        "Nama kelompok : Taylor Swift"
      ],
      "metadata": {
        "id": "ejFNaPntgqdc"
      }
    },
    {
      "cell_type": "markdown",
      "source": [
        "# Aplikasi sederhana menghitung volume bola"
      ],
      "metadata": {
        "id": "rzzRkh3thJqk"
      }
    },
    {
      "cell_type": "code",
      "source": [
        "r = float(input(\"Masukkan jari-jari bola (dalam satuan cm): \"))\n",
        "pi = 3.14\n",
        "volume = (4/3) * pi * r**3\n",
        "\n",
        "print(f\"Volume bola dengan jari-jari {r} cm adalah {volume:.2f} cm³\")"
      ],
      "metadata": {
        "colab": {
          "base_uri": "https://localhost:8080/"
        },
        "id": "qSrJ76VUhwUT",
        "outputId": "d39046a5-6d76-4c86-e2f2-012e67daa881"
      },
      "execution_count": null,
      "outputs": [
        {
          "output_type": "stream",
          "name": "stdout",
          "text": [
            "Masukkan jari-jari bola (dalam satuan cm): 14\n",
            "Volume bola dengan jari-jari 14.0 cm adalah 11488.21 cm³\n"
          ]
        }
      ]
    }
  ]
}